{
 "cells": [
  {
   "cell_type": "markdown",
   "id": "358f1f87-0088-4869-880d-8cf3e9c92265",
   "metadata": {},
   "source": [
    "### Q1. Simple Linear Regression vs. Multiple Linear Regression:\n",
    "\n",
    "**Simple Linear Regression:**\n",
    "- In simple linear regression, there is one independent variable (feature) that predicts the dependent variable (target).\n",
    "- Equation: \\( y = mx + b \\)\n",
    "- Example: Predicting house prices based on the square footage of the house.\n",
    "\n",
    "**Multiple Linear Regression:**\n",
    "- In multiple linear regression, there are multiple independent variables that collectively predict the dependent variable.\n",
    "- Equation: \\( y = b_0 + b_1x_1 + b_2x_2 + ... + b_nx_n \\)\n",
    "- Example: Predicting house prices based on square footage, number of bedrooms, and location.\n",
    "\n",
    "### Q2. Assumptions of Linear Regression:\n",
    "\n",
    "- **Linearity:** The relationship between independent and dependent variables is linear.\n",
    "- **Independence:** Residuals (errors) are independent of each other.\n",
    "- **Homoscedasticity:** Residuals have constant variance across all levels of the independent variable.\n",
    "- **Normality:** Residuals are normally distributed.\n",
    "- **No Multicollinearity:** Independent variables are not highly correlated.\n",
    "\n",
    "### Q3. Interpretation of Slope and Intercept:\n",
    "\n",
    "- **Slope (Coefficient):** Represents the change in the dependent variable for a one-unit change in the independent variable, holding other variables constant.\n",
    "- **Intercept:** Represents the predicted value of the dependent variable when all independent variables are zero.\n",
    "\n",
    "### Q4. Gradient Descent:\n",
    "\n",
    "- **Concept:** Gradient descent is an optimization algorithm used to find the minimum of a function (cost function) by iteratively moving towards the steepest descent.\n",
    "- **Use in ML:** It is used to minimize the cost function in machine learning models, adjusting model parameters to improve performance.\n",
    "\n",
    "### Q5. Multiple Linear Regression Model:\n",
    "\n",
    "- **Description:** In multiple linear regression, the dependent variable is predicted by multiple independent variables.\n",
    "- **Equation:** \\( y = b_0 + b_1x_1 + b_2x_2 + ... + b_nx_n \\)\n",
    "- **Difference from Simple Linear Regression:** Involves more than one independent variable.\n",
    "\n",
    "### Q6. Multicollinearity in Multiple Linear Regression:\n",
    "\n",
    "- **Concept:** Multicollinearity occurs when independent variables in the model are highly correlated, making it challenging to isolate their individual effects.\n",
    "- **Detection:** Variance Inflation Factor (VIF) is commonly used. High VIF values indicate multicollinearity.\n",
    "- **Addressing:** Remove one of the highly correlated variables or use dimensionality reduction techniques.\n",
    "\n",
    "### Q7. Polynomial Regression Model:\n",
    "\n",
    "- **Description:** Polynomial regression is an extension of linear regression where the relationship between the independent and dependent variables is modeled as an nth-degree polynomial.\n",
    "- **Equation:** \\( y = b_0 + b_1x + b_2x^2 + ... + b_nx^n \\)\n",
    "- **Difference from Linear Regression:** Polynomial regression allows for more complex relationships between variables.\n",
    "\n",
    "### Q8. Advantages and Disadvantages of Polynomial Regression:\n",
    "\n",
    "- **Advantages:**\n",
    "  - Can capture non-linear relationships.\n",
    "  - Greater flexibility in fitting complex data.\n",
    "\n",
    "- **Disadvantages:**\n",
    "  - Prone to overfitting with higher-degree polynomials.\n",
    "  - More computationally intensive.\n",
    "  \n",
    "- **Use Cases:** Prefer polynomial regression when the relationship between variables is non-linear and simple linear regression is insufficient."
   ]
  },
  {
   "cell_type": "code",
   "execution_count": null,
   "id": "fa78b5db-f789-4b38-b499-bfc1740c862a",
   "metadata": {},
   "outputs": [],
   "source": []
  }
 ],
 "metadata": {
  "kernelspec": {
   "display_name": "Python 3 (ipykernel)",
   "language": "python",
   "name": "python3"
  },
  "language_info": {
   "codemirror_mode": {
    "name": "ipython",
    "version": 3
   },
   "file_extension": ".py",
   "mimetype": "text/x-python",
   "name": "python",
   "nbconvert_exporter": "python",
   "pygments_lexer": "ipython3",
   "version": "3.10.8"
  }
 },
 "nbformat": 4,
 "nbformat_minor": 5
}
